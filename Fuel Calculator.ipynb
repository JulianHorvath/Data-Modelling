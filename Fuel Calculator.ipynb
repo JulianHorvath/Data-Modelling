{
 "cells": [
  {
   "cell_type": "markdown",
   "id": "6a1620a9",
   "metadata": {},
   "source": [
    "# Fuel Calculator"
   ]
  },
  {
   "cell_type": "code",
   "execution_count": 1,
   "id": "2e6d7de5",
   "metadata": {},
   "outputs": [],
   "source": [
    "# Input fuel variables\n",
    "fuel_consumption = 45\n",
    "fuel_unit = 'liters'"
   ]
  },
  {
   "cell_type": "code",
   "execution_count": 2,
   "id": "8a3be6e7",
   "metadata": {},
   "outputs": [],
   "source": [
    "# Input distance variables\n",
    "distance_traveled = 500\n",
    "distance_unit = 'kilometers'\n",
    "every_hundred = 100"
   ]
  },
  {
   "cell_type": "code",
   "execution_count": 3,
   "id": "a2ee1f78",
   "metadata": {},
   "outputs": [],
   "source": [
    "# Add penalization for car/road conditions, driving, etc\n",
    "penalization = 5"
   ]
  },
  {
   "cell_type": "code",
   "execution_count": 4,
   "id": "e30847c4",
   "metadata": {},
   "outputs": [
    {
     "name": "stdout",
     "output_type": "stream",
     "text": [
      "Real fuel consumption every hundred kilometers : 14.0 liters\n"
     ]
    }
   ],
   "source": [
    "fuel_calculator = (fuel_consumption / distance_traveled) * 100 + penalization\n",
    "print('Real fuel consumption every hundred', distance_unit,':', fuel_calculator, fuel_unit)"
   ]
  },
  {
   "cell_type": "markdown",
   "id": "83569206",
   "metadata": {},
   "source": [
    "https://motor.elpais.com/conducir/asi-se-calcula-el-gasto-de-gasolina-y-el-consumo-de-litro-por-kilometro/"
   ]
  }
 ],
 "metadata": {
  "kernelspec": {
   "display_name": "Python 3 (ipykernel)",
   "language": "python",
   "name": "python3"
  },
  "language_info": {
   "codemirror_mode": {
    "name": "ipython",
    "version": 3
   },
   "file_extension": ".py",
   "mimetype": "text/x-python",
   "name": "python",
   "nbconvert_exporter": "python",
   "pygments_lexer": "ipython3",
   "version": "3.9.5"
  }
 },
 "nbformat": 4,
 "nbformat_minor": 5
}

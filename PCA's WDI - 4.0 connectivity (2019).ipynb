{
 "cells": [
  {
   "cell_type": "markdown",
   "id": "e986475e",
   "metadata": {},
   "source": [
    "# Import"
   ]
  },
  {
   "cell_type": "code",
   "execution_count": 1,
   "id": "45deafd9",
   "metadata": {},
   "outputs": [],
   "source": [
    "# Data wrangling\n",
    "import pandas as pd\n",
    "import numpy as np\n",
    "\n",
    "# Visualization\n",
    "import matplotlib as mpl\n",
    "import matplotlib.pyplot as plt\n",
    "mpl.style.use('bmh')\n",
    "import seaborn as sns\n",
    "\n",
    "# Modelling\n",
    "from sklearn.decomposition import PCA\n",
    "from sklearn.preprocessing import StandardScaler\n",
    "from sklearn.preprocessing import scale\n",
    "\n",
    "# Setting file path\n",
    "import os\n",
    "os.chdir('C:/Users/j_hor/Documents/Coderhouse/Data Science/Data/Raw')\n",
    "df = pd.read_excel(\"World Bank Data - WDI Internet.xlsx\")"
   ]
  },
  {
   "cell_type": "markdown",
   "id": "fc097d6f",
   "metadata": {},
   "source": [
    "# Preprocessing data"
   ]
  },
  {
   "cell_type": "code",
   "execution_count": 2,
   "id": "85df2f00",
   "metadata": {},
   "outputs": [
    {
     "name": "stdout",
     "output_type": "stream",
     "text": [
      "<class 'pandas.core.frame.DataFrame'>\n",
      "RangeIndex: 53 entries, 0 to 52\n",
      "Data columns (total 10 columns):\n",
      " #   Column                                                             Non-Null Count  Dtype  \n",
      "---  ------                                                             --------------  -----  \n",
      " 0   Time                                                               50 non-null     object \n",
      " 1   Time Code                                                          48 non-null     object \n",
      " 2   Country Name                                                       48 non-null     object \n",
      " 3   Country Code                                                       48 non-null     object \n",
      " 4   Access to electricity (% of population) [EG.ELC.ACCS.ZS]           48 non-null     float64\n",
      " 5   Fixed broadband subscriptions (per 100 people) [IT.NET.BBND.P2]    48 non-null     object \n",
      " 6   Individuals using the Internet (% of population) [IT.NET.USER.ZS]  48 non-null     object \n",
      " 7   Mobile cellular subscriptions (per 100 people) [IT.CEL.SETS.P2]    48 non-null     object \n",
      " 8   Secure Internet servers (per 1 million people) [IT.NET.SECR.P6]    48 non-null     float64\n",
      " 9   Urban population (% of total population) [SP.URB.TOTL.IN.ZS]       48 non-null     float64\n",
      "dtypes: float64(3), object(7)\n",
      "memory usage: 4.3+ KB\n"
     ]
    }
   ],
   "source": [
    "# DataFrame information\n",
    "df.info()"
   ]
  },
  {
   "cell_type": "code",
   "execution_count": 3,
   "id": "9be28aff",
   "metadata": {},
   "outputs": [
    {
     "data": {
      "text/html": [
       "<div>\n",
       "<style scoped>\n",
       "    .dataframe tbody tr th:only-of-type {\n",
       "        vertical-align: middle;\n",
       "    }\n",
       "\n",
       "    .dataframe tbody tr th {\n",
       "        vertical-align: top;\n",
       "    }\n",
       "\n",
       "    .dataframe thead th {\n",
       "        text-align: right;\n",
       "    }\n",
       "</style>\n",
       "<table border=\"1\" class=\"dataframe\">\n",
       "  <thead>\n",
       "    <tr style=\"text-align: right;\">\n",
       "      <th></th>\n",
       "      <th>Country Name</th>\n",
       "      <th>Access to electricity (% of population)</th>\n",
       "      <th>Fixed broadband subscriptions (per 100 people)</th>\n",
       "      <th>Individuals using the Internet (% of population)</th>\n",
       "      <th>Mobile cellular subscriptions (per 100 people)</th>\n",
       "      <th>Urban population (% of total population)</th>\n",
       "    </tr>\n",
       "  </thead>\n",
       "  <tbody>\n",
       "    <tr>\n",
       "      <th>0</th>\n",
       "      <td>Argentina</td>\n",
       "      <td>100.0</td>\n",
       "      <td>19.636106</td>\n",
       "      <td>..</td>\n",
       "      <td>125.842106</td>\n",
       "      <td>91.991</td>\n",
       "    </tr>\n",
       "    <tr>\n",
       "      <th>1</th>\n",
       "      <td>Brazil</td>\n",
       "      <td>99.8</td>\n",
       "      <td>15.592074</td>\n",
       "      <td>73.91244</td>\n",
       "      <td>95.716495</td>\n",
       "      <td>86.824</td>\n",
       "    </tr>\n",
       "    <tr>\n",
       "      <th>2</th>\n",
       "      <td>Chile</td>\n",
       "      <td>100.0</td>\n",
       "      <td>18.096566</td>\n",
       "      <td>..</td>\n",
       "      <td>132.18456</td>\n",
       "      <td>87.643</td>\n",
       "    </tr>\n",
       "    <tr>\n",
       "      <th>3</th>\n",
       "      <td>Germany</td>\n",
       "      <td>100.0</td>\n",
       "      <td>41.993271</td>\n",
       "      <td>88.134517</td>\n",
       "      <td>128.357032</td>\n",
       "      <td>77.376</td>\n",
       "    </tr>\n",
       "    <tr>\n",
       "      <th>4</th>\n",
       "      <td>Austria</td>\n",
       "      <td>100.0</td>\n",
       "      <td>28.129216</td>\n",
       "      <td>87.752205</td>\n",
       "      <td>119.775297</td>\n",
       "      <td>58.515</td>\n",
       "    </tr>\n",
       "  </tbody>\n",
       "</table>\n",
       "</div>"
      ],
      "text/plain": [
       "  Country Name  Access to electricity (% of population)  \\\n",
       "0    Argentina                                    100.0   \n",
       "1       Brazil                                     99.8   \n",
       "2        Chile                                    100.0   \n",
       "3      Germany                                    100.0   \n",
       "4      Austria                                    100.0   \n",
       "\n",
       "  Fixed broadband subscriptions (per 100 people)  \\\n",
       "0                                      19.636106   \n",
       "1                                      15.592074   \n",
       "2                                      18.096566   \n",
       "3                                      41.993271   \n",
       "4                                      28.129216   \n",
       "\n",
       "  Individuals using the Internet (% of population)  \\\n",
       "0                                               ..   \n",
       "1                                         73.91244   \n",
       "2                                               ..   \n",
       "3                                        88.134517   \n",
       "4                                        87.752205   \n",
       "\n",
       "  Mobile cellular subscriptions (per 100 people)  \\\n",
       "0                                     125.842106   \n",
       "1                                      95.716495   \n",
       "2                                      132.18456   \n",
       "3                                     128.357032   \n",
       "4                                     119.775297   \n",
       "\n",
       "   Urban population (% of total population)  \n",
       "0                                    91.991  \n",
       "1                                    86.824  \n",
       "2                                    87.643  \n",
       "3                                    77.376  \n",
       "4                                    58.515  "
      ]
     },
     "execution_count": 3,
     "metadata": {},
     "output_type": "execute_result"
    }
   ],
   "source": [
    "# Drop unnecesary columns and rename them without brackets\n",
    "df.drop(['Time','Time Code','Country Code','Secure Internet servers (per 1 million people) [IT.NET.SECR.P6]'], axis='columns', inplace=True)\n",
    "df.rename(columns={'Access to electricity (% of population) [EG.ELC.ACCS.ZS]':'Access to electricity (% of population)',\n",
    "                  'Fixed broadband subscriptions (per 100 people) [IT.NET.BBND.P2]':'Fixed broadband subscriptions (per 100 people)',\n",
    "                  'Individuals using the Internet (% of population) [IT.NET.USER.ZS]':'Individuals using the Internet (% of population)',\n",
    "                  'Mobile cellular subscriptions (per 100 people) [IT.CEL.SETS.P2]':'Mobile cellular subscriptions (per 100 people)',\n",
    "                  'Urban population (% of total population) [SP.URB.TOTL.IN.ZS]':'Urban population (% of total population)',\n",
    "                  },\n",
    "          inplace=True)\n",
    "df.head()"
   ]
  },
  {
   "cell_type": "code",
   "execution_count": 4,
   "id": "1a9cd1ae",
   "metadata": {},
   "outputs": [
    {
     "data": {
      "text/plain": [
       "Country Name                                        5\n",
       "Access to electricity (% of population)             5\n",
       "Fixed broadband subscriptions (per 100 people)      5\n",
       "Individuals using the Internet (% of population)    5\n",
       "Mobile cellular subscriptions (per 100 people)      5\n",
       "Urban population (% of total population)            5\n",
       "dtype: int64"
      ]
     },
     "execution_count": 4,
     "metadata": {},
     "output_type": "execute_result"
    }
   ],
   "source": [
    "# Checking NaN\n",
    "df.isnull().sum()"
   ]
  },
  {
   "cell_type": "code",
   "execution_count": 5,
   "id": "d84e5ec0",
   "metadata": {},
   "outputs": [
    {
     "data": {
      "text/html": [
       "<div>\n",
       "<style scoped>\n",
       "    .dataframe tbody tr th:only-of-type {\n",
       "        vertical-align: middle;\n",
       "    }\n",
       "\n",
       "    .dataframe tbody tr th {\n",
       "        vertical-align: top;\n",
       "    }\n",
       "\n",
       "    .dataframe thead th {\n",
       "        text-align: right;\n",
       "    }\n",
       "</style>\n",
       "<table border=\"1\" class=\"dataframe\">\n",
       "  <thead>\n",
       "    <tr style=\"text-align: right;\">\n",
       "      <th></th>\n",
       "      <th>Country Name</th>\n",
       "      <th>Access to electricity (% of population)</th>\n",
       "      <th>Fixed broadband subscriptions (per 100 people)</th>\n",
       "      <th>Individuals using the Internet (% of population)</th>\n",
       "      <th>Mobile cellular subscriptions (per 100 people)</th>\n",
       "      <th>Urban population (% of total population)</th>\n",
       "    </tr>\n",
       "  </thead>\n",
       "  <tbody>\n",
       "    <tr>\n",
       "      <th>48</th>\n",
       "      <td>NaN</td>\n",
       "      <td>NaN</td>\n",
       "      <td>NaN</td>\n",
       "      <td>NaN</td>\n",
       "      <td>NaN</td>\n",
       "      <td>NaN</td>\n",
       "    </tr>\n",
       "    <tr>\n",
       "      <th>49</th>\n",
       "      <td>NaN</td>\n",
       "      <td>NaN</td>\n",
       "      <td>NaN</td>\n",
       "      <td>NaN</td>\n",
       "      <td>NaN</td>\n",
       "      <td>NaN</td>\n",
       "    </tr>\n",
       "    <tr>\n",
       "      <th>50</th>\n",
       "      <td>NaN</td>\n",
       "      <td>NaN</td>\n",
       "      <td>NaN</td>\n",
       "      <td>NaN</td>\n",
       "      <td>NaN</td>\n",
       "      <td>NaN</td>\n",
       "    </tr>\n",
       "    <tr>\n",
       "      <th>51</th>\n",
       "      <td>NaN</td>\n",
       "      <td>NaN</td>\n",
       "      <td>NaN</td>\n",
       "      <td>NaN</td>\n",
       "      <td>NaN</td>\n",
       "      <td>NaN</td>\n",
       "    </tr>\n",
       "    <tr>\n",
       "      <th>52</th>\n",
       "      <td>NaN</td>\n",
       "      <td>NaN</td>\n",
       "      <td>NaN</td>\n",
       "      <td>NaN</td>\n",
       "      <td>NaN</td>\n",
       "      <td>NaN</td>\n",
       "    </tr>\n",
       "  </tbody>\n",
       "</table>\n",
       "</div>"
      ],
      "text/plain": [
       "   Country Name  Access to electricity (% of population)  \\\n",
       "48          NaN                                      NaN   \n",
       "49          NaN                                      NaN   \n",
       "50          NaN                                      NaN   \n",
       "51          NaN                                      NaN   \n",
       "52          NaN                                      NaN   \n",
       "\n",
       "   Fixed broadband subscriptions (per 100 people)  \\\n",
       "48                                            NaN   \n",
       "49                                            NaN   \n",
       "50                                            NaN   \n",
       "51                                            NaN   \n",
       "52                                            NaN   \n",
       "\n",
       "   Individuals using the Internet (% of population)  \\\n",
       "48                                              NaN   \n",
       "49                                              NaN   \n",
       "50                                              NaN   \n",
       "51                                              NaN   \n",
       "52                                              NaN   \n",
       "\n",
       "   Mobile cellular subscriptions (per 100 people)  \\\n",
       "48                                            NaN   \n",
       "49                                            NaN   \n",
       "50                                            NaN   \n",
       "51                                            NaN   \n",
       "52                                            NaN   \n",
       "\n",
       "    Urban population (% of total population)  \n",
       "48                                       NaN  \n",
       "49                                       NaN  \n",
       "50                                       NaN  \n",
       "51                                       NaN  \n",
       "52                                       NaN  "
      ]
     },
     "execution_count": 5,
     "metadata": {},
     "output_type": "execute_result"
    }
   ],
   "source": [
    "# Importation brought footers\n",
    "df.tail()"
   ]
  },
  {
   "cell_type": "code",
   "execution_count": 6,
   "id": "360f4b32",
   "metadata": {},
   "outputs": [
    {
     "data": {
      "text/html": [
       "<div>\n",
       "<style scoped>\n",
       "    .dataframe tbody tr th:only-of-type {\n",
       "        vertical-align: middle;\n",
       "    }\n",
       "\n",
       "    .dataframe tbody tr th {\n",
       "        vertical-align: top;\n",
       "    }\n",
       "\n",
       "    .dataframe thead th {\n",
       "        text-align: right;\n",
       "    }\n",
       "</style>\n",
       "<table border=\"1\" class=\"dataframe\">\n",
       "  <thead>\n",
       "    <tr style=\"text-align: right;\">\n",
       "      <th></th>\n",
       "      <th>Country Name</th>\n",
       "      <th>Access to electricity (% of population)</th>\n",
       "      <th>Fixed broadband subscriptions (per 100 people)</th>\n",
       "      <th>Individuals using the Internet (% of population)</th>\n",
       "      <th>Mobile cellular subscriptions (per 100 people)</th>\n",
       "      <th>Urban population (% of total population)</th>\n",
       "    </tr>\n",
       "  </thead>\n",
       "  <tbody>\n",
       "    <tr>\n",
       "      <th>43</th>\n",
       "      <td>India</td>\n",
       "      <td>97.815285</td>\n",
       "      <td>1.401955</td>\n",
       "      <td>41</td>\n",
       "      <td>84.270009</td>\n",
       "      <td>34.472</td>\n",
       "    </tr>\n",
       "    <tr>\n",
       "      <th>44</th>\n",
       "      <td>South Africa</td>\n",
       "      <td>85.000000</td>\n",
       "      <td>2.135234</td>\n",
       "      <td>68.2</td>\n",
       "      <td>165.599938</td>\n",
       "      <td>66.856</td>\n",
       "    </tr>\n",
       "    <tr>\n",
       "      <th>45</th>\n",
       "      <td>New Zealand</td>\n",
       "      <td>100.000000</td>\n",
       "      <td>..</td>\n",
       "      <td>..</td>\n",
       "      <td>..</td>\n",
       "      <td>86.615</td>\n",
       "    </tr>\n",
       "    <tr>\n",
       "      <th>46</th>\n",
       "      <td>Colombia</td>\n",
       "      <td>99.766273</td>\n",
       "      <td>13.805977</td>\n",
       "      <td>65.006901</td>\n",
       "      <td>131.672444</td>\n",
       "      <td>81.104</td>\n",
       "    </tr>\n",
       "    <tr>\n",
       "      <th>47</th>\n",
       "      <td>Peru</td>\n",
       "      <td>98.346603</td>\n",
       "      <td>..</td>\n",
       "      <td>59.950501</td>\n",
       "      <td>..</td>\n",
       "      <td>78.099</td>\n",
       "    </tr>\n",
       "  </tbody>\n",
       "</table>\n",
       "</div>"
      ],
      "text/plain": [
       "    Country Name  Access to electricity (% of population)  \\\n",
       "43         India                                97.815285   \n",
       "44  South Africa                                85.000000   \n",
       "45   New Zealand                               100.000000   \n",
       "46      Colombia                                99.766273   \n",
       "47          Peru                                98.346603   \n",
       "\n",
       "   Fixed broadband subscriptions (per 100 people)  \\\n",
       "43                                       1.401955   \n",
       "44                                       2.135234   \n",
       "45                                             ..   \n",
       "46                                      13.805977   \n",
       "47                                             ..   \n",
       "\n",
       "   Individuals using the Internet (% of population)  \\\n",
       "43                                               41   \n",
       "44                                             68.2   \n",
       "45                                               ..   \n",
       "46                                        65.006901   \n",
       "47                                        59.950501   \n",
       "\n",
       "   Mobile cellular subscriptions (per 100 people)  \\\n",
       "43                                      84.270009   \n",
       "44                                     165.599938   \n",
       "45                                             ..   \n",
       "46                                     131.672444   \n",
       "47                                             ..   \n",
       "\n",
       "    Urban population (% of total population)  \n",
       "43                                    34.472  \n",
       "44                                    66.856  \n",
       "45                                    86.615  \n",
       "46                                    81.104  \n",
       "47                                    78.099  "
      ]
     },
     "execution_count": 6,
     "metadata": {},
     "output_type": "execute_result"
    }
   ],
   "source": [
    "# Filtering those footers\n",
    "df = df.loc[0:47,]\n",
    "df.tail()"
   ]
  },
  {
   "cell_type": "code",
   "execution_count": 7,
   "id": "afd6d4fc",
   "metadata": {},
   "outputs": [
    {
     "name": "stdout",
     "output_type": "stream",
     "text": [
      "..\n",
      "Int64Index([45, 47], dtype='int64')\n",
      "..\n",
      "Int64Index([45, 47], dtype='int64')\n",
      "None\n",
      "..\n",
      "Int64Index([0, 2, 31, 34, 45], dtype='int64')\n",
      "..\n",
      "Int64Index([0, 2, 31, 34, 45], dtype='int64')\n",
      "..\n",
      "Int64Index([0, 2, 31, 34, 45], dtype='int64')\n",
      "..\n",
      "Int64Index([0, 2, 31, 34, 45], dtype='int64')\n",
      "..\n",
      "Int64Index([0, 2, 31, 34, 45], dtype='int64')\n",
      "None\n",
      "..\n",
      "Int64Index([45, 47], dtype='int64')\n",
      "..\n",
      "Int64Index([45, 47], dtype='int64')\n",
      "None\n"
     ]
    }
   ],
   "source": [
    "# Missing values are represented as '..'(str), so I needed to find indexes for its treatment \n",
    "def find1():\n",
    "    for i in df['Fixed broadband subscriptions (per 100 people)']:\n",
    "        if isinstance(i,str):\n",
    "            print(i)\n",
    "            print(df[df['Fixed broadband subscriptions (per 100 people)'] == i].index)\n",
    "            \n",
    "def find2():\n",
    "    for i in df['Individuals using the Internet (% of population)']:\n",
    "        if isinstance(i,str):\n",
    "            print(i)\n",
    "            print(df[df['Individuals using the Internet (% of population)'] == i].index)\n",
    "            \n",
    "def find3():\n",
    "    for i in df['Mobile cellular subscriptions (per 100 people)']:\n",
    "        if isinstance(i,str):\n",
    "            print(i)\n",
    "            print(df[df['Mobile cellular subscriptions (per 100 people)'] == i].index)\n",
    "            \n",
    "print(find1())\n",
    "print(find2())\n",
    "print(find3())"
   ]
  },
  {
   "cell_type": "code",
   "execution_count": 8,
   "id": "d6a33b42",
   "metadata": {},
   "outputs": [
    {
     "name": "stdout",
     "output_type": "stream",
     "text": [
      "(42, 6)\n"
     ]
    }
   ],
   "source": [
    "# Drop records with missing values\n",
    "df = df.drop([0,2,31,34,45,47])\n",
    "print(df.shape)"
   ]
  },
  {
   "cell_type": "code",
   "execution_count": 9,
   "id": "c91a7df5",
   "metadata": {},
   "outputs": [
    {
     "name": "stdout",
     "output_type": "stream",
     "text": [
      "<class 'numpy.float64'>\n"
     ]
    }
   ],
   "source": [
    "# Cast object type columns to float type, and check transformations\n",
    "df[['Fixed broadband subscriptions (per 100 people)','Individuals using the Internet (% of population)','Mobile cellular subscriptions (per 100 people)']] = df[['Fixed broadband subscriptions (per 100 people)','Individuals using the Internet (% of population)','Mobile cellular subscriptions (per 100 people)']].astype(float)\n",
    "print(type(df['Fixed broadband subscriptions (per 100 people)'][1]))"
   ]
  },
  {
   "cell_type": "code",
   "execution_count": 10,
   "id": "a682883f",
   "metadata": {},
   "outputs": [
    {
     "data": {
      "text/html": [
       "<div>\n",
       "<style scoped>\n",
       "    .dataframe tbody tr th:only-of-type {\n",
       "        vertical-align: middle;\n",
       "    }\n",
       "\n",
       "    .dataframe tbody tr th {\n",
       "        vertical-align: top;\n",
       "    }\n",
       "\n",
       "    .dataframe thead th {\n",
       "        text-align: right;\n",
       "    }\n",
       "</style>\n",
       "<table border=\"1\" class=\"dataframe\">\n",
       "  <thead>\n",
       "    <tr style=\"text-align: right;\">\n",
       "      <th></th>\n",
       "      <th>Access to electricity (% of population)</th>\n",
       "      <th>Fixed broadband subscriptions (per 100 people)</th>\n",
       "      <th>Individuals using the Internet (% of population)</th>\n",
       "      <th>Mobile cellular subscriptions (per 100 people)</th>\n",
       "      <th>Urban population (% of total population)</th>\n",
       "    </tr>\n",
       "    <tr>\n",
       "      <th>Country Name</th>\n",
       "      <th></th>\n",
       "      <th></th>\n",
       "      <th></th>\n",
       "      <th></th>\n",
       "      <th></th>\n",
       "    </tr>\n",
       "  </thead>\n",
       "  <tbody>\n",
       "    <tr>\n",
       "      <th>Brazil</th>\n",
       "      <td>99.8</td>\n",
       "      <td>15.592074</td>\n",
       "      <td>73.91244</td>\n",
       "      <td>95.716495</td>\n",
       "      <td>86.824</td>\n",
       "    </tr>\n",
       "  </tbody>\n",
       "</table>\n",
       "</div>"
      ],
      "text/plain": [
       "              Access to electricity (% of population)  \\\n",
       "Country Name                                            \n",
       "Brazil                                           99.8   \n",
       "\n",
       "              Fixed broadband subscriptions (per 100 people)  \\\n",
       "Country Name                                                   \n",
       "Brazil                                             15.592074   \n",
       "\n",
       "              Individuals using the Internet (% of population)  \\\n",
       "Country Name                                                     \n",
       "Brazil                                                73.91244   \n",
       "\n",
       "              Mobile cellular subscriptions (per 100 people)  \\\n",
       "Country Name                                                   \n",
       "Brazil                                             95.716495   \n",
       "\n",
       "              Urban population (% of total population)  \n",
       "Country Name                                            \n",
       "Brazil                                          86.824  "
      ]
     },
     "execution_count": 10,
     "metadata": {},
     "output_type": "execute_result"
    }
   ],
   "source": [
    "# Setting 'Country Name' as DataFrame's Index\n",
    "df.index = df['Country Name']\n",
    "df.drop(['Country Name'], axis='columns', inplace=True)\n",
    "df.head(1)"
   ]
  },
  {
   "cell_type": "markdown",
   "id": "16f74c98",
   "metadata": {},
   "source": [
    "# Explorative Data Analysis"
   ]
  },
  {
   "cell_type": "code",
   "execution_count": 11,
   "id": "10c1be6e",
   "metadata": {},
   "outputs": [
    {
     "data": {
      "text/html": [
       "<div>\n",
       "<style scoped>\n",
       "    .dataframe tbody tr th:only-of-type {\n",
       "        vertical-align: middle;\n",
       "    }\n",
       "\n",
       "    .dataframe tbody tr th {\n",
       "        vertical-align: top;\n",
       "    }\n",
       "\n",
       "    .dataframe thead th {\n",
       "        text-align: right;\n",
       "    }\n",
       "</style>\n",
       "<table border=\"1\" class=\"dataframe\">\n",
       "  <thead>\n",
       "    <tr style=\"text-align: right;\">\n",
       "      <th></th>\n",
       "      <th>Access to electricity (% of population)</th>\n",
       "      <th>Fixed broadband subscriptions (per 100 people)</th>\n",
       "      <th>Individuals using the Internet (% of population)</th>\n",
       "      <th>Mobile cellular subscriptions (per 100 people)</th>\n",
       "      <th>Urban population (% of total population)</th>\n",
       "    </tr>\n",
       "  </thead>\n",
       "  <tbody>\n",
       "    <tr>\n",
       "      <th>count</th>\n",
       "      <td>42.000000</td>\n",
       "      <td>42.000000</td>\n",
       "      <td>42.000000</td>\n",
       "      <td>42.000000</td>\n",
       "      <td>42.000000</td>\n",
       "    </tr>\n",
       "    <tr>\n",
       "      <th>mean</th>\n",
       "      <td>99.580513</td>\n",
       "      <td>31.672939</td>\n",
       "      <td>83.681891</td>\n",
       "      <td>123.111634</td>\n",
       "      <td>75.423762</td>\n",
       "    </tr>\n",
       "    <tr>\n",
       "      <th>std</th>\n",
       "      <td>2.329435</td>\n",
       "      <td>11.014297</td>\n",
       "      <td>11.450791</td>\n",
       "      <td>19.253193</td>\n",
       "      <td>13.813269</td>\n",
       "    </tr>\n",
       "    <tr>\n",
       "      <th>min</th>\n",
       "      <td>85.000000</td>\n",
       "      <td>1.401955</td>\n",
       "      <td>41.000000</td>\n",
       "      <td>84.270009</td>\n",
       "      <td>34.472000</td>\n",
       "    </tr>\n",
       "    <tr>\n",
       "      <th>25%</th>\n",
       "      <td>100.000000</td>\n",
       "      <td>28.001215</td>\n",
       "      <td>76.844946</td>\n",
       "      <td>109.145421</td>\n",
       "      <td>67.105750</td>\n",
       "    </tr>\n",
       "    <tr>\n",
       "      <th>50%</th>\n",
       "      <td>100.000000</td>\n",
       "      <td>32.733374</td>\n",
       "      <td>85.957009</td>\n",
       "      <td>122.257773</td>\n",
       "      <td>78.382000</td>\n",
       "    </tr>\n",
       "    <tr>\n",
       "      <th>75%</th>\n",
       "      <td>100.000000</td>\n",
       "      <td>40.128775</td>\n",
       "      <td>92.067138</td>\n",
       "      <td>133.762271</td>\n",
       "      <td>84.997500</td>\n",
       "    </tr>\n",
       "    <tr>\n",
       "      <th>max</th>\n",
       "      <td>100.000000</td>\n",
       "      <td>46.820499</td>\n",
       "      <td>99.000000</td>\n",
       "      <td>168.820750</td>\n",
       "      <td>98.041000</td>\n",
       "    </tr>\n",
       "  </tbody>\n",
       "</table>\n",
       "</div>"
      ],
      "text/plain": [
       "       Access to electricity (% of population)  \\\n",
       "count                                42.000000   \n",
       "mean                                 99.580513   \n",
       "std                                   2.329435   \n",
       "min                                  85.000000   \n",
       "25%                                 100.000000   \n",
       "50%                                 100.000000   \n",
       "75%                                 100.000000   \n",
       "max                                 100.000000   \n",
       "\n",
       "       Fixed broadband subscriptions (per 100 people)  \\\n",
       "count                                       42.000000   \n",
       "mean                                        31.672939   \n",
       "std                                         11.014297   \n",
       "min                                          1.401955   \n",
       "25%                                         28.001215   \n",
       "50%                                         32.733374   \n",
       "75%                                         40.128775   \n",
       "max                                         46.820499   \n",
       "\n",
       "       Individuals using the Internet (% of population)  \\\n",
       "count                                         42.000000   \n",
       "mean                                          83.681891   \n",
       "std                                           11.450791   \n",
       "min                                           41.000000   \n",
       "25%                                           76.844946   \n",
       "50%                                           85.957009   \n",
       "75%                                           92.067138   \n",
       "max                                           99.000000   \n",
       "\n",
       "       Mobile cellular subscriptions (per 100 people)  \\\n",
       "count                                       42.000000   \n",
       "mean                                       123.111634   \n",
       "std                                         19.253193   \n",
       "min                                         84.270009   \n",
       "25%                                        109.145421   \n",
       "50%                                        122.257773   \n",
       "75%                                        133.762271   \n",
       "max                                        168.820750   \n",
       "\n",
       "       Urban population (% of total population)  \n",
       "count                                 42.000000  \n",
       "mean                                  75.423762  \n",
       "std                                   13.813269  \n",
       "min                                   34.472000  \n",
       "25%                                   67.105750  \n",
       "50%                                   78.382000  \n",
       "75%                                   84.997500  \n",
       "max                                   98.041000  "
      ]
     },
     "execution_count": 11,
     "metadata": {},
     "output_type": "execute_result"
    }
   ],
   "source": [
    "# Descriptive stats\n",
    "df.describe()"
   ]
  },
  {
   "cell_type": "code",
   "execution_count": 12,
   "id": "3059aac9",
   "metadata": {},
   "outputs": [
    {
     "data": {
      "text/html": [
       "<div>\n",
       "<style scoped>\n",
       "    .dataframe tbody tr th:only-of-type {\n",
       "        vertical-align: middle;\n",
       "    }\n",
       "\n",
       "    .dataframe tbody tr th {\n",
       "        vertical-align: top;\n",
       "    }\n",
       "\n",
       "    .dataframe thead th {\n",
       "        text-align: right;\n",
       "    }\n",
       "</style>\n",
       "<table border=\"1\" class=\"dataframe\">\n",
       "  <thead>\n",
       "    <tr style=\"text-align: right;\">\n",
       "      <th></th>\n",
       "      <th>Access to electricity (% of population)</th>\n",
       "      <th>Fixed broadband subscriptions (per 100 people)</th>\n",
       "      <th>Individuals using the Internet (% of population)</th>\n",
       "      <th>Mobile cellular subscriptions (per 100 people)</th>\n",
       "      <th>Urban population (% of total population)</th>\n",
       "    </tr>\n",
       "  </thead>\n",
       "  <tbody>\n",
       "    <tr>\n",
       "      <th>Access to electricity (% of population)</th>\n",
       "      <td>1.000000</td>\n",
       "      <td>0.491084</td>\n",
       "      <td>0.303389</td>\n",
       "      <td>-0.298556</td>\n",
       "      <td>0.162498</td>\n",
       "    </tr>\n",
       "    <tr>\n",
       "      <th>Fixed broadband subscriptions (per 100 people)</th>\n",
       "      <td>0.491084</td>\n",
       "      <td>1.000000</td>\n",
       "      <td>0.769934</td>\n",
       "      <td>0.047822</td>\n",
       "      <td>0.510691</td>\n",
       "    </tr>\n",
       "    <tr>\n",
       "      <th>Individuals using the Internet (% of population)</th>\n",
       "      <td>0.303389</td>\n",
       "      <td>0.769934</td>\n",
       "      <td>1.000000</td>\n",
       "      <td>0.216086</td>\n",
       "      <td>0.620010</td>\n",
       "    </tr>\n",
       "    <tr>\n",
       "      <th>Mobile cellular subscriptions (per 100 people)</th>\n",
       "      <td>-0.298556</td>\n",
       "      <td>0.047822</td>\n",
       "      <td>0.216086</td>\n",
       "      <td>1.000000</td>\n",
       "      <td>0.136924</td>\n",
       "    </tr>\n",
       "    <tr>\n",
       "      <th>Urban population (% of total population)</th>\n",
       "      <td>0.162498</td>\n",
       "      <td>0.510691</td>\n",
       "      <td>0.620010</td>\n",
       "      <td>0.136924</td>\n",
       "      <td>1.000000</td>\n",
       "    </tr>\n",
       "  </tbody>\n",
       "</table>\n",
       "</div>"
      ],
      "text/plain": [
       "                                                  Access to electricity (% of population)  \\\n",
       "Access to electricity (% of population)                                          1.000000   \n",
       "Fixed broadband subscriptions (per 100 people)                                   0.491084   \n",
       "Individuals using the Internet (% of population)                                 0.303389   \n",
       "Mobile cellular subscriptions (per 100 people)                                  -0.298556   \n",
       "Urban population (% of total population)                                         0.162498   \n",
       "\n",
       "                                                  Fixed broadband subscriptions (per 100 people)  \\\n",
       "Access to electricity (% of population)                                                 0.491084   \n",
       "Fixed broadband subscriptions (per 100 people)                                          1.000000   \n",
       "Individuals using the Internet (% of population)                                        0.769934   \n",
       "Mobile cellular subscriptions (per 100 people)                                          0.047822   \n",
       "Urban population (% of total population)                                                0.510691   \n",
       "\n",
       "                                                  Individuals using the Internet (% of population)  \\\n",
       "Access to electricity (% of population)                                                   0.303389   \n",
       "Fixed broadband subscriptions (per 100 people)                                            0.769934   \n",
       "Individuals using the Internet (% of population)                                          1.000000   \n",
       "Mobile cellular subscriptions (per 100 people)                                            0.216086   \n",
       "Urban population (% of total population)                                                  0.620010   \n",
       "\n",
       "                                                  Mobile cellular subscriptions (per 100 people)  \\\n",
       "Access to electricity (% of population)                                                -0.298556   \n",
       "Fixed broadband subscriptions (per 100 people)                                          0.047822   \n",
       "Individuals using the Internet (% of population)                                        0.216086   \n",
       "Mobile cellular subscriptions (per 100 people)                                          1.000000   \n",
       "Urban population (% of total population)                                                0.136924   \n",
       "\n",
       "                                                  Urban population (% of total population)  \n",
       "Access to electricity (% of population)                                           0.162498  \n",
       "Fixed broadband subscriptions (per 100 people)                                    0.510691  \n",
       "Individuals using the Internet (% of population)                                  0.620010  \n",
       "Mobile cellular subscriptions (per 100 people)                                    0.136924  \n",
       "Urban population (% of total population)                                          1.000000  "
      ]
     },
     "execution_count": 12,
     "metadata": {},
     "output_type": "execute_result"
    }
   ],
   "source": [
    "# Matrix correlation\n",
    "df.corr()"
   ]
  },
  {
   "cell_type": "code",
   "execution_count": 13,
   "id": "612d0c30",
   "metadata": {},
   "outputs": [],
   "source": [
    "# Drop Mobile cellular subscriptions feature because lack of correlation\n",
    "df.drop(['Mobile cellular subscriptions (per 100 people)'], axis='columns', inplace=True)"
   ]
  },
  {
   "cell_type": "code",
   "execution_count": 14,
   "id": "7b86587c",
   "metadata": {},
   "outputs": [
    {
     "name": "stdout",
     "output_type": "stream",
     "text": [
      "<seaborn.axisgrid.FacetGrid object at 0x000002AE900E2520>\n",
      "<seaborn.axisgrid.FacetGrid object at 0x000002AE900E2850>\n"
     ]
    },
    {
     "data": {
      "image/png": "[encoded data removed]",
      "text/plain": [
       "<Figure size 360x360 with 1 Axes>"
      ]
     },
     "metadata": {
      "needs_background": "light"
     },
     "output_type": "display_data"
    },
    {
     "data": {
      "image/png": "[encoded data removed]",
      "text/plain": [
       "<Figure size 360x360 with 1 Axes>"
      ]
     },
     "metadata": {
      "needs_background": "light"
     },
     "output_type": "display_data"
    }
   ],
   "source": [
    "# Exploring distributions for each feature\n",
    "# Access to electricity (% of population)\n",
    "print(sns.catplot(data=df, kind='box',y='Access to electricity (% of population)'))\n",
    "print(sns.displot(data=df, x='Access to electricity (% of population)', kde=True))"
   ]
  },
  {
   "cell_type": "code",
   "execution_count": 15,
   "id": "bbf66e35",
   "metadata": {},
   "outputs": [
    {
     "name": "stdout",
     "output_type": "stream",
     "text": [
      "<seaborn.axisgrid.FacetGrid object at 0x000002AE9033DBE0>\n",
      "<seaborn.axisgrid.FacetGrid object at 0x000002AE903E9A60>\n"
     ]
    },
    {
     "data": {
      "image/png": "[encoded data removed]",
      "text/plain": [
       "<Figure size 360x360 with 1 Axes>"
      ]
     },
     "metadata": {
      "needs_background": "light"
     },
     "output_type": "display_data"
    },
    {
     "data": {
      "image/png": "[encoded data removed]",
      "text/plain": [
       "<Figure size 360x360 with 1 Axes>"
      ]
     },
     "metadata": {
      "needs_background": "light"
     },
     "output_type": "display_data"
    }
   ],
   "source": [
    "# Fixed broadband subscriptions (per 100 people)\n",
    "print(sns.catplot(data=df, kind='box',y='Fixed broadband subscriptions (per 100 people)'))\n",
    "print(sns.displot(data=df, x='Fixed broadband subscriptions (per 100 people)', kde=True))"
   ]
  },
  {
   "cell_type": "code",
   "execution_count": 16,
   "id": "a76c4d9e",
   "metadata": {},
   "outputs": [
    {
     "name": "stdout",
     "output_type": "stream",
     "text": [
      "<seaborn.axisgrid.FacetGrid object at 0x000002AE90493700>\n",
      "<seaborn.axisgrid.FacetGrid object at 0x000002AE903E9190>\n"
     ]
    },
    {
     "data": {
      "image/png": "[encoded data removed]",
      "text/plain": [
       "<Figure size 360x360 with 1 Axes>"
      ]
     },
     "metadata": {
      "needs_background": "light"
     },
     "output_type": "display_data"
    },
    {
     "data": {
      "image/png": "[encoded data removed]",
      "text/plain": [
       "<Figure size 360x360 with 1 Axes>"
      ]
     },
     "metadata": {
      "needs_background": "light"
     },
     "output_type": "display_data"
    }
   ],
   "source": [
    "# Individuals using the Internet (% of population)\n",
    "print(sns.catplot(data=df, kind='box',y='Individuals using the Internet (% of population)'))\n",
    "print(sns.displot(data=df, x='Individuals using the Internet (% of population)', kde=True))"
   ]
  },
  {
   "cell_type": "code",
   "execution_count": 17,
   "id": "0a8257ec",
   "metadata": {},
   "outputs": [
    {
     "name": "stdout",
     "output_type": "stream",
     "text": [
      "<seaborn.axisgrid.FacetGrid object at 0x000002AE91578D00>\n",
      "<seaborn.axisgrid.FacetGrid object at 0x000002AE915CA160>\n"
     ]
    },
    {
     "data": {
      "image/png": "[encoded data removed]",
      "text/plain": [
       "<Figure size 360x360 with 1 Axes>"
      ]
     },
     "metadata": {
      "needs_background": "light"
     },
     "output_type": "display_data"
    },
    {
     "data": {
      "image/png": "[encoded data removed]",
      "text/plain": [
       "<Figure size 360x360 with 1 Axes>"
      ]
     },
     "metadata": {
      "needs_background": "light"
     },
     "output_type": "display_data"
    }
   ],
   "source": [
    "# Urban population (% of total population)\n",
    "print(sns.catplot(data=df, kind='box',y='Urban population (% of total population)'))\n",
    "print(sns.displot(data=df, x='Urban population (% of total population)', kde=True))"
   ]
  },
  {
   "cell_type": "code",
   "execution_count": 18,
   "id": "304a3563",
   "metadata": {},
   "outputs": [
    {
     "data": {
      "image/png": "[encoded data removed]",
      "text/plain": [
       "<Figure size 360x360 with 1 Axes>"
      ]
     },
     "metadata": {
      "needs_background": "light"
     },
     "output_type": "display_data"
    }
   ],
   "source": [
    "# Correlation between features\n",
    "sns.relplot(data=df, x='Fixed broadband subscriptions (per 100 people)', y='Individuals using the Internet (% of population)');"
   ]
  },
  {
   "cell_type": "code",
   "execution_count": 19,
   "id": "a3a27619",
   "metadata": {},
   "outputs": [
    {
     "data": {
      "image/png": "[encoded data removed]",
      "text/plain": [
       "<Figure size 360x360 with 1 Axes>"
      ]
     },
     "metadata": {
      "needs_background": "light"
     },
     "output_type": "display_data"
    }
   ],
   "source": [
    "sns.relplot(data=df, x='Urban population (% of total population)', y='Individuals using the Internet (% of population)');"
   ]
  },
  {
   "cell_type": "code",
   "execution_count": 20,
   "id": "f8d401db",
   "metadata": {},
   "outputs": [
    {
     "data": {
      "image/png": "[encoded data removed]",
      "text/plain": [
       "<Figure size 360x360 with 1 Axes>"
      ]
     },
     "metadata": {
      "needs_background": "light"
     },
     "output_type": "display_data"
    }
   ],
   "source": [
    "sns.relplot(data=df, x='Urban population (% of total population)', y='Fixed broadband subscriptions (per 100 people)');"
   ]
  },
  {
   "cell_type": "markdown",
   "id": "a8684d54",
   "metadata": {},
   "source": [
    "# Modelling PCA"
   ]
  },
  {
   "cell_type": "code",
   "execution_count": 21,
   "id": "e2aeba6d",
   "metadata": {},
   "outputs": [
    {
     "data": {
      "text/plain": [
       "42"
      ]
     },
     "execution_count": 21,
     "metadata": {},
     "output_type": "execute_result"
    }
   ],
   "source": [
    "# Data scalement\n",
    "scale = StandardScaler()\n",
    "scaled_data = scale.fit_transform(df)\n",
    "len(scaled_data)"
   ]
  },
  {
   "cell_type": "code",
   "execution_count": 22,
   "id": "11cdde29",
   "metadata": {},
   "outputs": [],
   "source": [
    "# Training the model with scaled data\n",
    "pca = PCA(n_components=4)\n",
    "pca = pca.fit(scaled_data)"
   ]
  },
  {
   "cell_type": "code",
   "execution_count": 23,
   "id": "9c4444e6",
   "metadata": {},
   "outputs": [
    {
     "data": {
      "text/html": [
       "<div>\n",
       "<style scoped>\n",
       "    .dataframe tbody tr th:only-of-type {\n",
       "        vertical-align: middle;\n",
       "    }\n",
       "\n",
       "    .dataframe tbody tr th {\n",
       "        vertical-align: top;\n",
       "    }\n",
       "\n",
       "    .dataframe thead th {\n",
       "        text-align: right;\n",
       "    }\n",
       "</style>\n",
       "<table border=\"1\" class=\"dataframe\">\n",
       "  <thead>\n",
       "    <tr style=\"text-align: right;\">\n",
       "      <th></th>\n",
       "      <th>Access to electricity (% of population)</th>\n",
       "      <th>Fixed broadband subscriptions (per 100 people)</th>\n",
       "      <th>Individuals using the Internet (% of population)</th>\n",
       "      <th>Urban population (% of total population)</th>\n",
       "    </tr>\n",
       "  </thead>\n",
       "  <tbody>\n",
       "    <tr>\n",
       "      <th>PC1</th>\n",
       "      <td>-0.356619</td>\n",
       "      <td>-0.573401</td>\n",
       "      <td>-0.566615</td>\n",
       "      <td>-0.472210</td>\n",
       "    </tr>\n",
       "    <tr>\n",
       "      <th>PC2</th>\n",
       "      <td>-0.832088</td>\n",
       "      <td>-0.106479</td>\n",
       "      <td>0.214546</td>\n",
       "      <td>0.500262</td>\n",
       "    </tr>\n",
       "    <tr>\n",
       "      <th>PC3</th>\n",
       "      <td>0.381462</td>\n",
       "      <td>-0.430884</td>\n",
       "      <td>-0.398987</td>\n",
       "      <td>0.713888</td>\n",
       "    </tr>\n",
       "    <tr>\n",
       "      <th>PC4</th>\n",
       "      <td>-0.186922</td>\n",
       "      <td>0.688631</td>\n",
       "      <td>-0.688278</td>\n",
       "      <td>0.130846</td>\n",
       "    </tr>\n",
       "  </tbody>\n",
       "</table>\n",
       "</div>"
      ],
      "text/plain": [
       "     Access to electricity (% of population)  \\\n",
       "PC1                                -0.356619   \n",
       "PC2                                -0.832088   \n",
       "PC3                                 0.381462   \n",
       "PC4                                -0.186922   \n",
       "\n",
       "     Fixed broadband subscriptions (per 100 people)  \\\n",
       "PC1                                       -0.573401   \n",
       "PC2                                       -0.106479   \n",
       "PC3                                       -0.430884   \n",
       "PC4                                        0.688631   \n",
       "\n",
       "     Individuals using the Internet (% of population)  \\\n",
       "PC1                                         -0.566615   \n",
       "PC2                                          0.214546   \n",
       "PC3                                         -0.398987   \n",
       "PC4                                         -0.688278   \n",
       "\n",
       "     Urban population (% of total population)  \n",
       "PC1                                 -0.472210  \n",
       "PC2                                  0.500262  \n",
       "PC3                                  0.713888  \n",
       "PC4                                  0.130846  "
      ]
     },
     "execution_count": 23,
     "metadata": {},
     "output_type": "execute_result"
    }
   ],
   "source": [
    "# Creating a DataFrame containing Principal Components and original features\n",
    "components_list = ['PC1', 'PC2', 'PC3', 'PC4']\n",
    "pd.DataFrame(\n",
    "            data= pca.components_,\n",
    "            columns= df.columns,\n",
    "            index= components_list\n",
    ")"
   ]
  },
  {
   "cell_type": "code",
   "execution_count": 24,
   "id": "af5e3f84",
   "metadata": {},
   "outputs": [
    {
     "name": "stdout",
     "output_type": "stream",
     "text": [
      "[0.62170312 0.22173015 0.10801745 0.04854928]\n"
     ]
    }
   ],
   "source": [
    "# Printing PCA's explained variance ratio. Together, PCA1 and PCA2 explain 84% of variance.\n",
    "print(pca.explained_variance_ratio_)"
   ]
  },
  {
   "cell_type": "code",
   "execution_count": 27,
   "id": "9b7df093",
   "metadata": {},
   "outputs": [
    {
     "data": {
      "image/png": "[encoded data removed]",
      "text/plain": [
       "<Figure size 432x288 with 1 Axes>"
      ]
     },
     "metadata": {
      "needs_background": "light"
     },
     "output_type": "display_data"
    }
   ],
   "source": [
    "# Plotting PCA's explained variance ratio\n",
    "sns.barplot(x=components_list, y=pca.explained_variance_ratio_, palette='flare');"
   ]
  },
  {
   "cell_type": "code",
   "execution_count": 28,
   "id": "fb7cf3ec",
   "metadata": {},
   "outputs": [
    {
     "data": {
      "image/png": "[encoded data removed]",
      "text/plain": [
       "<Figure size 432x288 with 1 Axes>"
      ]
     },
     "metadata": {
      "needs_background": "light"
     },
     "output_type": "display_data"
    }
   ],
   "source": [
    "# Plotting cumulative variance explained sum. The graphic shows how much information do we gain adding each Principal Component to the model \n",
    "prop_varianza_acum = pca.explained_variance_ratio_.cumsum()\n",
    "sns.lineplot(x=components_list, y=prop_varianza_acum);"
   ]
  },
  {
   "cell_type": "code",
   "execution_count": 29,
   "id": "bac793fc",
   "metadata": {
    "scrolled": true
   },
   "outputs": [
    {
     "data": {
      "text/html": [
       "<div>\n",
       "<style scoped>\n",
       "    .dataframe tbody tr th:only-of-type {\n",
       "        vertical-align: middle;\n",
       "    }\n",
       "\n",
       "    .dataframe tbody tr th {\n",
       "        vertical-align: top;\n",
       "    }\n",
       "\n",
       "    .dataframe thead th {\n",
       "        text-align: right;\n",
       "    }\n",
       "</style>\n",
       "<table border=\"1\" class=\"dataframe\">\n",
       "  <thead>\n",
       "    <tr style=\"text-align: right;\">\n",
       "      <th></th>\n",
       "      <th>PC1</th>\n",
       "      <th>PC2</th>\n",
       "      <th>PC3</th>\n",
       "      <th>PC4</th>\n",
       "    </tr>\n",
       "    <tr>\n",
       "      <th>Country Name</th>\n",
       "      <th></th>\n",
       "      <th></th>\n",
       "      <th></th>\n",
       "      <th></th>\n",
       "    </tr>\n",
       "  </thead>\n",
       "  <tbody>\n",
       "    <tr>\n",
       "      <th>Brazil</th>\n",
       "      <td>0.908137</td>\n",
       "      <td>0.310605</td>\n",
       "      <td>1.613944</td>\n",
       "      <td>-0.331782</td>\n",
       "    </tr>\n",
       "    <tr>\n",
       "      <th>Germany</th>\n",
       "      <td>-0.899329</td>\n",
       "      <td>-0.096643</td>\n",
       "      <td>-0.394012</td>\n",
       "      <td>0.366832</td>\n",
       "    </tr>\n",
       "    <tr>\n",
       "      <th>Austria</th>\n",
       "      <td>0.502908</td>\n",
       "      <td>-0.659590</td>\n",
       "      <td>-0.818164</td>\n",
       "      <td>-0.668045</td>\n",
       "    </tr>\n",
       "    <tr>\n",
       "      <th>Belgium</th>\n",
       "      <td>-1.605099</td>\n",
       "      <td>0.723058</td>\n",
       "      <td>0.698935</td>\n",
       "      <td>0.294853</td>\n",
       "    </tr>\n",
       "    <tr>\n",
       "      <th>Croatia</th>\n",
       "      <td>0.990282</td>\n",
       "      <td>-0.869041</td>\n",
       "      <td>-0.572153</td>\n",
       "      <td>-0.163454</td>\n",
       "    </tr>\n",
       "    <tr>\n",
       "      <th>Denmark</th>\n",
       "      <td>-1.866011</td>\n",
       "      <td>0.461418</td>\n",
       "      <td>-0.265479</td>\n",
       "      <td>-0.010805</td>\n",
       "    </tr>\n",
       "    <tr>\n",
       "      <th>Slovak Republic</th>\n",
       "      <td>0.854387</td>\n",
       "      <td>-0.938953</td>\n",
       "      <td>-0.940428</td>\n",
       "      <td>-0.344530</td>\n",
       "    </tr>\n",
       "    <tr>\n",
       "      <th>Slovenia</th>\n",
       "      <td>0.753678</td>\n",
       "      <td>-0.903369</td>\n",
       "      <td>-0.929912</td>\n",
       "      <td>-0.289335</td>\n",
       "    </tr>\n",
       "    <tr>\n",
       "      <th>Spain</th>\n",
       "      <td>-0.687035</td>\n",
       "      <td>0.153200</td>\n",
       "      <td>0.021361</td>\n",
       "      <td>-0.302700</td>\n",
       "    </tr>\n",
       "    <tr>\n",
       "      <th>Estonia</th>\n",
       "      <td>-0.217625</td>\n",
       "      <td>-0.269498</td>\n",
       "      <td>-0.528694</td>\n",
       "      <td>-0.439144</td>\n",
       "    </tr>\n",
       "    <tr>\n",
       "      <th>Finland</th>\n",
       "      <td>-0.751200</td>\n",
       "      <td>0.320150</td>\n",
       "      <td>0.352732</td>\n",
       "      <td>-0.247218</td>\n",
       "    </tr>\n",
       "    <tr>\n",
       "      <th>France</th>\n",
       "      <td>-0.969480</td>\n",
       "      <td>-0.101601</td>\n",
       "      <td>-0.197084</td>\n",
       "      <td>0.924625</td>\n",
       "    </tr>\n",
       "    <tr>\n",
       "      <th>Greece</th>\n",
       "      <td>-0.200431</td>\n",
       "      <td>-0.232441</td>\n",
       "      <td>0.259212</td>\n",
       "      <td>0.971018</td>\n",
       "    </tr>\n",
       "    <tr>\n",
       "      <th>Hungary</th>\n",
       "      <td>0.165042</td>\n",
       "      <td>-0.365332</td>\n",
       "      <td>-0.061434</td>\n",
       "      <td>0.210961</td>\n",
       "    </tr>\n",
       "    <tr>\n",
       "      <th>Ireland</th>\n",
       "      <td>0.275186</td>\n",
       "      <td>-0.512474</td>\n",
       "      <td>-0.608143</td>\n",
       "      <td>-0.459874</td>\n",
       "    </tr>\n",
       "    <tr>\n",
       "      <th>Italy</th>\n",
       "      <td>0.625502</td>\n",
       "      <td>-0.439676</td>\n",
       "      <td>0.203359</td>\n",
       "      <td>0.203794</td>\n",
       "    </tr>\n",
       "    <tr>\n",
       "      <th>Latvia</th>\n",
       "      <td>0.323897</td>\n",
       "      <td>-0.320348</td>\n",
       "      <td>-0.196379</td>\n",
       "      <td>-0.567749</td>\n",
       "    </tr>\n",
       "    <tr>\n",
       "      <th>Lithuania</th>\n",
       "      <td>0.459095</td>\n",
       "      <td>-0.439754</td>\n",
       "      <td>-0.134308</td>\n",
       "      <td>-0.167479</td>\n",
       "    </tr>\n",
       "    <tr>\n",
       "      <th>Luxembourg</th>\n",
       "      <td>-1.584891</td>\n",
       "      <td>0.626561</td>\n",
       "      <td>0.196432</td>\n",
       "      <td>-0.339629</td>\n",
       "    </tr>\n",
       "    <tr>\n",
       "      <th>Malta</th>\n",
       "      <td>-1.590402</td>\n",
       "      <td>0.453811</td>\n",
       "      <td>0.435979</td>\n",
       "      <td>0.928747</td>\n",
       "    </tr>\n",
       "    <tr>\n",
       "      <th>Netherlands</th>\n",
       "      <td>-1.745245</td>\n",
       "      <td>0.516607</td>\n",
       "      <td>0.117992</td>\n",
       "      <td>0.295689</td>\n",
       "    </tr>\n",
       "    <tr>\n",
       "      <th>Poland</th>\n",
       "      <td>1.216305</td>\n",
       "      <td>-0.668331</td>\n",
       "      <td>-0.180225</td>\n",
       "      <td>-0.688309</td>\n",
       "    </tr>\n",
       "    <tr>\n",
       "      <th>Portugal</th>\n",
       "      <td>0.311190</td>\n",
       "      <td>-0.733538</td>\n",
       "      <td>-0.423963</td>\n",
       "      <td>0.831379</td>\n",
       "    </tr>\n",
       "    <tr>\n",
       "      <th>Czech Republic</th>\n",
       "      <td>-0.046537</td>\n",
       "      <td>-0.292531</td>\n",
       "      <td>-0.040945</td>\n",
       "      <td>0.332356</td>\n",
       "    </tr>\n",
       "    <tr>\n",
       "      <th>Romania</th>\n",
       "      <td>1.408210</td>\n",
       "      <td>-1.080734</td>\n",
       "      <td>-0.518238</td>\n",
       "      <td>0.091586</td>\n",
       "    </tr>\n",
       "    <tr>\n",
       "      <th>Sweden</th>\n",
       "      <td>-1.482947</td>\n",
       "      <td>0.419811</td>\n",
       "      <td>-0.008436</td>\n",
       "      <td>-0.031856</td>\n",
       "    </tr>\n",
       "    <tr>\n",
       "      <th>Switzerland</th>\n",
       "      <td>-1.282638</td>\n",
       "      <td>-0.178120</td>\n",
       "      <td>-0.946372</td>\n",
       "      <td>0.333598</td>\n",
       "    </tr>\n",
       "    <tr>\n",
       "      <th>Norway</th>\n",
       "      <td>-1.576528</td>\n",
       "      <td>0.282178</td>\n",
       "      <td>-0.469195</td>\n",
       "      <td>-0.180935</td>\n",
       "    </tr>\n",
       "    <tr>\n",
       "      <th>Iceland</th>\n",
       "      <td>-1.965033</td>\n",
       "      <td>0.722474</td>\n",
       "      <td>0.121330</td>\n",
       "      <td>-0.194598</td>\n",
       "    </tr>\n",
       "    <tr>\n",
       "      <th>United Kingdom</th>\n",
       "      <td>-1.219985</td>\n",
       "      <td>0.238038</td>\n",
       "      <td>-0.133131</td>\n",
       "      <td>0.021150</td>\n",
       "    </tr>\n",
       "    <tr>\n",
       "      <th>United States</th>\n",
       "      <td>-0.757143</td>\n",
       "      <td>0.185360</td>\n",
       "      <td>0.113941</td>\n",
       "      <td>-0.123174</td>\n",
       "    </tr>\n",
       "    <tr>\n",
       "      <th>Canada</th>\n",
       "      <td>-1.398863</td>\n",
       "      <td>0.223921</td>\n",
       "      <td>-0.428043</td>\n",
       "      <td>-0.176579</td>\n",
       "    </tr>\n",
       "    <tr>\n",
       "      <th>Mexico</th>\n",
       "      <td>1.312493</td>\n",
       "      <td>-0.064315</td>\n",
       "      <td>1.465530</td>\n",
       "      <td>-0.202037</td>\n",
       "    </tr>\n",
       "    <tr>\n",
       "      <th>Israel</th>\n",
       "      <td>-0.677001</td>\n",
       "      <td>0.558169</td>\n",
       "      <td>0.954272</td>\n",
       "      <td>-0.220732</td>\n",
       "    </tr>\n",
       "    <tr>\n",
       "      <th>Japan</th>\n",
       "      <td>-1.177699</td>\n",
       "      <td>0.598554</td>\n",
       "      <td>0.529215</td>\n",
       "      <td>-0.312689</td>\n",
       "    </tr>\n",
       "    <tr>\n",
       "      <th>Korea, Rep.</th>\n",
       "      <td>-1.482039</td>\n",
       "      <td>0.196557</td>\n",
       "      <td>-0.495429</td>\n",
       "      <td>-0.033599</td>\n",
       "    </tr>\n",
       "    <tr>\n",
       "      <th>Turkey</th>\n",
       "      <td>1.183961</td>\n",
       "      <td>-0.185150</td>\n",
       "      <td>1.001224</td>\n",
       "      <td>-0.366449</td>\n",
       "    </tr>\n",
       "    <tr>\n",
       "      <th>Russian Federation</th>\n",
       "      <td>0.498041</td>\n",
       "      <td>-0.112539</td>\n",
       "      <td>0.424637</td>\n",
       "      <td>-0.557720</td>\n",
       "    </tr>\n",
       "    <tr>\n",
       "      <th>China</th>\n",
       "      <td>1.433010</td>\n",
       "      <td>-1.064868</td>\n",
       "      <td>-0.033741</td>\n",
       "      <td>0.962386</td>\n",
       "    </tr>\n",
       "    <tr>\n",
       "      <th>India</th>\n",
       "      <td>5.423046</td>\n",
       "      <td>-1.376104</td>\n",
       "      <td>0.269120</td>\n",
       "      <td>0.431816</td>\n",
       "    </tr>\n",
       "    <tr>\n",
       "      <th>South Africa</th>\n",
       "      <td>4.887400</td>\n",
       "      <td>4.952749</td>\n",
       "      <td>-1.149248</td>\n",
       "      <td>0.174757</td>\n",
       "    </tr>\n",
       "    <tr>\n",
       "      <th>Colombia</th>\n",
       "      <td>1.651394</td>\n",
       "      <td>-0.038272</td>\n",
       "      <td>1.693937</td>\n",
       "      <td>0.044873</td>\n",
       "    </tr>\n",
       "  </tbody>\n",
       "</table>\n",
       "</div>"
      ],
      "text/plain": [
       "                         PC1       PC2       PC3       PC4\n",
       "Country Name                                              \n",
       "Brazil              0.908137  0.310605  1.613944 -0.331782\n",
       "Germany            -0.899329 -0.096643 -0.394012  0.366832\n",
       "Austria             0.502908 -0.659590 -0.818164 -0.668045\n",
       "Belgium            -1.605099  0.723058  0.698935  0.294853\n",
       "Croatia             0.990282 -0.869041 -0.572153 -0.163454\n",
       "Denmark            -1.866011  0.461418 -0.265479 -0.010805\n",
       "Slovak Republic     0.854387 -0.938953 -0.940428 -0.344530\n",
       "Slovenia            0.753678 -0.903369 -0.929912 -0.289335\n",
       "Spain              -0.687035  0.153200  0.021361 -0.302700\n",
       "Estonia            -0.217625 -0.269498 -0.528694 -0.439144\n",
       "Finland            -0.751200  0.320150  0.352732 -0.247218\n",
       "France             -0.969480 -0.101601 -0.197084  0.924625\n",
       "Greece             -0.200431 -0.232441  0.259212  0.971018\n",
       "Hungary             0.165042 -0.365332 -0.061434  0.210961\n",
       "Ireland             0.275186 -0.512474 -0.608143 -0.459874\n",
       "Italy               0.625502 -0.439676  0.203359  0.203794\n",
       "Latvia              0.323897 -0.320348 -0.196379 -0.567749\n",
       "Lithuania           0.459095 -0.439754 -0.134308 -0.167479\n",
       "Luxembourg         -1.584891  0.626561  0.196432 -0.339629\n",
       "Malta              -1.590402  0.453811  0.435979  0.928747\n",
       "Netherlands        -1.745245  0.516607  0.117992  0.295689\n",
       "Poland              1.216305 -0.668331 -0.180225 -0.688309\n",
       "Portugal            0.311190 -0.733538 -0.423963  0.831379\n",
       "Czech Republic     -0.046537 -0.292531 -0.040945  0.332356\n",
       "Romania             1.408210 -1.080734 -0.518238  0.091586\n",
       "Sweden             -1.482947  0.419811 -0.008436 -0.031856\n",
       "Switzerland        -1.282638 -0.178120 -0.946372  0.333598\n",
       "Norway             -1.576528  0.282178 -0.469195 -0.180935\n",
       "Iceland            -1.965033  0.722474  0.121330 -0.194598\n",
       "United Kingdom     -1.219985  0.238038 -0.133131  0.021150\n",
       "United States      -0.757143  0.185360  0.113941 -0.123174\n",
       "Canada             -1.398863  0.223921 -0.428043 -0.176579\n",
       "Mexico              1.312493 -0.064315  1.465530 -0.202037\n",
       "Israel             -0.677001  0.558169  0.954272 -0.220732\n",
       "Japan              -1.177699  0.598554  0.529215 -0.312689\n",
       "Korea, Rep.        -1.482039  0.196557 -0.495429 -0.033599\n",
       "Turkey              1.183961 -0.185150  1.001224 -0.366449\n",
       "Russian Federation  0.498041 -0.112539  0.424637 -0.557720\n",
       "China               1.433010 -1.064868 -0.033741  0.962386\n",
       "India               5.423046 -1.376104  0.269120  0.431816\n",
       "South Africa        4.887400  4.952749 -1.149248  0.174757\n",
       "Colombia            1.651394 -0.038272  1.693937  0.044873"
      ]
     },
     "execution_count": 29,
     "metadata": {},
     "output_type": "execute_result"
    }
   ],
   "source": [
    "# Creating a DataFrame containing Principal Components and records\n",
    "projections = pca.transform(scaled_data)\n",
    "projections = pd.DataFrame(\n",
    "                            projections,\n",
    "                            columns=components_list,\n",
    "                            index=df.index\n",
    "                        )\n",
    "projections"
   ]
  },
  {
   "cell_type": "markdown",
   "id": "a2780158",
   "metadata": {},
   "source": [
    "# Nonlinearity restriction"
   ]
  },
  {
   "cell_type": "code",
   "execution_count": 30,
   "id": "c02b62d1",
   "metadata": {},
   "outputs": [
    {
     "data": {
      "text/html": [
       "<div>\n",
       "<style scoped>\n",
       "    .dataframe tbody tr th:only-of-type {\n",
       "        vertical-align: middle;\n",
       "    }\n",
       "\n",
       "    .dataframe tbody tr th {\n",
       "        vertical-align: top;\n",
       "    }\n",
       "\n",
       "    .dataframe thead th {\n",
       "        text-align: right;\n",
       "    }\n",
       "</style>\n",
       "<table border=\"1\" class=\"dataframe\">\n",
       "  <thead>\n",
       "    <tr style=\"text-align: right;\">\n",
       "      <th></th>\n",
       "      <th>PC1</th>\n",
       "      <th>PC2</th>\n",
       "      <th>PC3</th>\n",
       "      <th>PC4</th>\n",
       "    </tr>\n",
       "  </thead>\n",
       "  <tbody>\n",
       "    <tr>\n",
       "      <th>PC1</th>\n",
       "      <td>1.000000e+00</td>\n",
       "      <td>-2.634261e-16</td>\n",
       "      <td>7.140366e-17</td>\n",
       "      <td>-4.312562e-16</td>\n",
       "    </tr>\n",
       "    <tr>\n",
       "      <th>PC2</th>\n",
       "      <td>-2.634261e-16</td>\n",
       "      <td>1.000000e+00</td>\n",
       "      <td>-2.620795e-16</td>\n",
       "      <td>4.876557e-16</td>\n",
       "    </tr>\n",
       "    <tr>\n",
       "      <th>PC3</th>\n",
       "      <td>7.140366e-17</td>\n",
       "      <td>-2.620795e-16</td>\n",
       "      <td>1.000000e+00</td>\n",
       "      <td>-1.391658e-16</td>\n",
       "    </tr>\n",
       "    <tr>\n",
       "      <th>PC4</th>\n",
       "      <td>-4.312562e-16</td>\n",
       "      <td>4.876557e-16</td>\n",
       "      <td>-1.391658e-16</td>\n",
       "      <td>1.000000e+00</td>\n",
       "    </tr>\n",
       "  </tbody>\n",
       "</table>\n",
       "</div>"
      ],
      "text/plain": [
       "              PC1           PC2           PC3           PC4\n",
       "PC1  1.000000e+00 -2.634261e-16  7.140366e-17 -4.312562e-16\n",
       "PC2 -2.634261e-16  1.000000e+00 -2.620795e-16  4.876557e-16\n",
       "PC3  7.140366e-17 -2.620795e-16  1.000000e+00 -1.391658e-16\n",
       "PC4 -4.312562e-16  4.876557e-16 -1.391658e-16  1.000000e+00"
      ]
     },
     "execution_count": 30,
     "metadata": {},
     "output_type": "execute_result"
    }
   ],
   "source": [
    "# Demonstrating lack of correlation between Principal Components\n",
    "projections.corr()"
   ]
  },
  {
   "cell_type": "code",
   "execution_count": 31,
   "id": "153ab35e",
   "metadata": {},
   "outputs": [
    {
     "data": {
      "image/png": "[encoded data removed]",
      "text/plain": [
       "<Figure size 360x360 with 1 Axes>"
      ]
     },
     "metadata": {
      "needs_background": "light"
     },
     "output_type": "display_data"
    }
   ],
   "source": [
    "# Visualizing Principal Components which explain 84% of variance\n",
    "sns.relplot(data=projections, x='PC1', y='PC2');"
   ]
  },
  {
   "cell_type": "code",
   "execution_count": 32,
   "id": "dab8c137",
   "metadata": {},
   "outputs": [
    {
     "data": {
      "image/png": "[encoded data removed]",
      "text/plain": [
       "<Figure size 360x360 with 1 Axes>"
      ]
     },
     "metadata": {
      "needs_background": "light"
     },
     "output_type": "display_data"
    }
   ],
   "source": [
    "sns.relplot(data=projections[projections.PC1>0.5], x='PC1', y='PC2');"
   ]
  },
  {
   "cell_type": "code",
   "execution_count": 33,
   "id": "2fe3d573",
   "metadata": {},
   "outputs": [
    {
     "data": {
      "image/png": "[encoded data removed]",
      "text/plain": [
       "<Figure size 360x360 with 1 Axes>"
      ]
     },
     "metadata": {
      "needs_background": "light"
     },
     "output_type": "display_data"
    }
   ],
   "source": [
    "sns.relplot(data=projections[projections.PC1<0.5], x='PC1', y='PC2');"
   ]
  }
 ],
 "metadata": {
  "kernelspec": {
   "display_name": "Python 3 (ipykernel)",
   "language": "python",
   "name": "python3"
  },
  "language_info": {
   "codemirror_mode": {
    "name": "ipython",
    "version": 3
   },
   "file_extension": ".py",
   "mimetype": "text/x-python",
   "name": "python",
   "nbconvert_exporter": "python",
   "pygments_lexer": "ipython3",
   "version": "3.9.5"
  }
 },
 "nbformat": 4,
 "nbformat_minor": 5
}
